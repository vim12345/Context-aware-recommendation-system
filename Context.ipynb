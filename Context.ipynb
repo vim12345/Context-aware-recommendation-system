{
  "nbformat": 4,
  "nbformat_minor": 0,
  "metadata": {
    "colab": {
      "provenance": []
    },
    "kernelspec": {
      "name": "python3",
      "display_name": "Python 3"
    },
    "language_info": {
      "name": "python"
    }
  },
  "cells": [
    {
      "cell_type": "code",
      "execution_count": 1,
      "metadata": {
        "id": "46Xylg-fxi_A"
      },
      "outputs": [],
      "source": [
        "import numpy as np\n",
        "import pandas as pd\n",
        "from datetime import datetime"
      ]
    },
    {
      "cell_type": "code",
      "source": [
        "# 1. Simulate session data with time of day and items\n",
        "sessions = ['Session1', 'Session2', 'Session3', 'Session4', 'Session5']\n",
        "items = ['Item1', 'Item2', 'Item3', 'Item4', 'Item5']\n",
        "time_of_day = ['Morning', 'Afternoon', 'Evening']"
      ],
      "metadata": {
        "id": "L0fIRyFNxmK_"
      },
      "execution_count": 2,
      "outputs": []
    },
    {
      "cell_type": "code",
      "source": [
        "data = []\n",
        "for session in sessions:\n",
        "    # Randomly pick an item and a time of day\n",
        "    item = np.random.choice(items)\n",
        "    time = np.random.choice(time_of_day)\n",
        "    data.append([session, item, time, str(datetime.now())])\n",
        ""
      ],
      "metadata": {
        "id": "rrlBqgDnxmN9"
      },
      "execution_count": 3,
      "outputs": []
    },
    {
      "cell_type": "code",
      "source": [
        "# Create DataFrame\n",
        "df = pd.DataFrame(data, columns=['Session', 'Item', 'TimeOfDay', 'Timestamp'])\n",
        "print(\"Session Data:\\n\", df)"
      ],
      "metadata": {
        "colab": {
          "base_uri": "https://localhost:8080/"
        },
        "id": "M44Z-N2GxmRN",
        "outputId": "8acc4fac-e586-48ce-fcfd-7fd0fc0d01dc"
      },
      "execution_count": 4,
      "outputs": [
        {
          "output_type": "stream",
          "name": "stdout",
          "text": [
            "Session Data:\n",
            "     Session   Item TimeOfDay                   Timestamp\n",
            "0  Session1  Item4   Evening  2025-08-20 04:40:41.113031\n",
            "1  Session2  Item4   Evening  2025-08-20 04:40:41.113113\n",
            "2  Session3  Item2   Morning  2025-08-20 04:40:41.113195\n",
            "3  Session4  Item5   Morning  2025-08-20 04:40:41.113257\n",
            "4  Session5  Item2   Morning  2025-08-20 04:40:41.113314\n"
          ]
        }
      ]
    },
    {
      "cell_type": "code",
      "source": [
        "# 2. Context-Aware Recommendation based on Time of Day\n",
        "def recommend_based_on_context(session, time_of_day, df, top_n=1):\n",
        "    # Filter data by session and time of day\n",
        "    session_data = df[(df['Session'] == session) & (df['TimeOfDay'] == time_of_day)]\n",
        "\n",
        "    # Recommend items based on time of day\n",
        "    if time_of_day == 'Morning':\n",
        "        recommendations = ['Item1', 'Item2']\n",
        "    elif time_of_day == 'Afternoon':\n",
        "        recommendations = ['Item3', 'Item4']\n",
        "    else:\n",
        "        recommendations = ['Item5', 'Item1']\n",
        "\n",
        "    return recommendations[:top_n]\n",
        ""
      ],
      "metadata": {
        "id": "fiihsU14xmUI"
      },
      "execution_count": 5,
      "outputs": []
    },
    {
      "cell_type": "code",
      "source": [
        "# 3. Recommend items for Session1 in the Afternoon\n",
        "session = 'Session1'\n",
        "time_of_day = 'Afternoon'\n",
        "recommended_items = recommend_based_on_context(session, time_of_day, df)\n",
        "print(f\"Recommended items for {session} during {time_of_day}: {recommended_items}\")"
      ],
      "metadata": {
        "colab": {
          "base_uri": "https://localhost:8080/"
        },
        "id": "qpy79xTUxmXV",
        "outputId": "d5a9cea2-d3b6-4426-8707-5dae23611a41"
      },
      "execution_count": 6,
      "outputs": [
        {
          "output_type": "stream",
          "name": "stdout",
          "text": [
            "Recommended items for Session1 during Afternoon: ['Item3']\n"
          ]
        }
      ]
    },
    {
      "cell_type": "code",
      "source": [],
      "metadata": {
        "id": "fWMSH7KIxmZj"
      },
      "execution_count": 6,
      "outputs": []
    },
    {
      "cell_type": "code",
      "source": [],
      "metadata": {
        "id": "ByapKYLKxmdG"
      },
      "execution_count": 6,
      "outputs": []
    }
  ]
}